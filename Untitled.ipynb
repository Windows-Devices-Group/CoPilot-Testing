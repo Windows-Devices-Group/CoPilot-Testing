{
 "cells": [
  {
   "cell_type": "code",
   "execution_count": 1,
   "id": "15bc6a12",
   "metadata": {},
   "outputs": [],
   "source": [
    "import pandas as pd"
   ]
  },
  {
   "cell_type": "code",
   "execution_count": 2,
   "id": "77bf25a9",
   "metadata": {},
   "outputs": [],
   "source": [
    "Sentiment_Data  = pd.read_csv(\"Windows_Data_116K.csv\")"
   ]
  },
  {
   "cell_type": "code",
   "execution_count": 3,
   "id": "91754bda",
   "metadata": {},
   "outputs": [
    {
     "data": {
      "text/html": [
       "<div>\n",
       "<style scoped>\n",
       "    .dataframe tbody tr th:only-of-type {\n",
       "        vertical-align: middle;\n",
       "    }\n",
       "\n",
       "    .dataframe tbody tr th {\n",
       "        vertical-align: top;\n",
       "    }\n",
       "\n",
       "    .dataframe thead th {\n",
       "        text-align: right;\n",
       "    }\n",
       "</style>\n",
       "<table border=\"1\" class=\"dataframe\">\n",
       "  <thead>\n",
       "    <tr style=\"text-align: right;\">\n",
       "      <th></th>\n",
       "      <th>Data_Source</th>\n",
       "      <th>Review_Date</th>\n",
       "      <th>Sentiment</th>\n",
       "      <th>Geography</th>\n",
       "      <th>Product</th>\n",
       "      <th>Review</th>\n",
       "      <th>Keywords</th>\n",
       "      <th>Aspect</th>\n",
       "      <th>Product_Family</th>\n",
       "      <th>Title</th>\n",
       "    </tr>\n",
       "  </thead>\n",
       "  <tbody>\n",
       "    <tr>\n",
       "      <th>0</th>\n",
       "      <td>BestBuy</td>\n",
       "      <td>3/13/2024 0:00</td>\n",
       "      <td>Positive</td>\n",
       "      <td>US</td>\n",
       "      <td>Windows 11 (Preinstall)</td>\n",
       "      <td>the audio be also well implement.</td>\n",
       "      <td>audio</td>\n",
       "      <td>Audio-Microphone</td>\n",
       "      <td>Asus Rog Zephyrus G16 16</td>\n",
       "      <td>NaN</td>\n",
       "    </tr>\n",
       "    <tr>\n",
       "      <th>1</th>\n",
       "      <td>BestBuy</td>\n",
       "      <td>3/13/2024 0:00</td>\n",
       "      <td>Positive</td>\n",
       "      <td>US</td>\n",
       "      <td>Windows 11 (Preinstall)</td>\n",
       "      <td>\"since this model be only target enthusiast, c...</td>\n",
       "      <td>window</td>\n",
       "      <td>Software</td>\n",
       "      <td>Asus Rog Zephyrus G16 16</td>\n",
       "      <td>NaN</td>\n",
       "    </tr>\n",
       "    <tr>\n",
       "      <th>2</th>\n",
       "      <td>BestBuy</td>\n",
       "      <td>3/13/2024 0:00</td>\n",
       "      <td>Neutral</td>\n",
       "      <td>US</td>\n",
       "      <td>Windows 11 (Preinstall)</td>\n",
       "      <td>\"with a model of this caliber, I wish they wou...</td>\n",
       "      <td>startup</td>\n",
       "      <td>Performance</td>\n",
       "      <td>Asus Rog Zephyrus G16 16</td>\n",
       "      <td>NaN</td>\n",
       "    </tr>\n",
       "    <tr>\n",
       "      <th>3</th>\n",
       "      <td>BestBuy</td>\n",
       "      <td>3/13/2024 0:00</td>\n",
       "      <td>Neutral</td>\n",
       "      <td>US</td>\n",
       "      <td>Windows 11 (Preinstall)</td>\n",
       "      <td>\"with a model of this caliber, I wish they wou...</td>\n",
       "      <td>software</td>\n",
       "      <td>Software</td>\n",
       "      <td>Asus Rog Zephyrus G16 16</td>\n",
       "      <td>NaN</td>\n",
       "    </tr>\n",
       "    <tr>\n",
       "      <th>4</th>\n",
       "      <td>BestBuy</td>\n",
       "      <td>3/13/2024 0:00</td>\n",
       "      <td>Neutral</td>\n",
       "      <td>US</td>\n",
       "      <td>Windows 11 (Preinstall)</td>\n",
       "      <td>\"with a model of this caliber, I wish they wou...</td>\n",
       "      <td>ram</td>\n",
       "      <td>Storage/Memory</td>\n",
       "      <td>Asus Rog Zephyrus G16 16</td>\n",
       "      <td>NaN</td>\n",
       "    </tr>\n",
       "  </tbody>\n",
       "</table>\n",
       "</div>"
      ],
      "text/plain": [
       "  Data_Source     Review_Date Sentiment Geography                  Product  \\\n",
       "0     BestBuy  3/13/2024 0:00  Positive        US  Windows 11 (Preinstall)   \n",
       "1     BestBuy  3/13/2024 0:00  Positive        US  Windows 11 (Preinstall)   \n",
       "2     BestBuy  3/13/2024 0:00   Neutral        US  Windows 11 (Preinstall)   \n",
       "3     BestBuy  3/13/2024 0:00   Neutral        US  Windows 11 (Preinstall)   \n",
       "4     BestBuy  3/13/2024 0:00   Neutral        US  Windows 11 (Preinstall)   \n",
       "\n",
       "                                              Review  Keywords  \\\n",
       "0                  the audio be also well implement.     audio   \n",
       "1  \"since this model be only target enthusiast, c...    window   \n",
       "2  \"with a model of this caliber, I wish they wou...   startup   \n",
       "3  \"with a model of this caliber, I wish they wou...  software   \n",
       "4  \"with a model of this caliber, I wish they wou...       ram   \n",
       "\n",
       "             Aspect            Product_Family  Title  \n",
       "0  Audio-Microphone  Asus Rog Zephyrus G16 16    NaN  \n",
       "1          Software  Asus Rog Zephyrus G16 16    NaN  \n",
       "2       Performance  Asus Rog Zephyrus G16 16    NaN  \n",
       "3          Software  Asus Rog Zephyrus G16 16    NaN  \n",
       "4    Storage/Memory  Asus Rog Zephyrus G16 16    NaN  "
      ]
     },
     "execution_count": 3,
     "metadata": {},
     "output_type": "execute_result"
    }
   ],
   "source": [
    "Sentiment_Data.head()"
   ]
  },
  {
   "cell_type": "code",
   "execution_count": 6,
   "id": "4d028174",
   "metadata": {},
   "outputs": [],
   "source": [
    "Sentiment_Data = Sentiment_Data.loc[Sentiment_Data[\"Product_Family\"] == \"Hp Laptop 14\"]"
   ]
  },
  {
   "cell_type": "code",
   "execution_count": 8,
   "id": "5515fc37",
   "metadata": {},
   "outputs": [
    {
     "data": {
      "text/plain": [
       "array(['Software', 'Storage/Memory', 'Ports', 'Browser', 'Keyboard',\n",
       "       'Display', 'Design', 'Connectivity', 'Performance', 'Price',\n",
       "       'Hardware', 'Battery', 'Gaming', 'Audio-Microphone',\n",
       "       'Customer-Service', 'Camera', 'Generic', 'Account', 'Graphics',\n",
       "       'Touchpad'], dtype=object)"
      ]
     },
     "execution_count": 8,
     "metadata": {},
     "output_type": "execute_result"
    }
   ],
   "source": [
    "x = Sentiment_Data[\"Aspect\"].unique()\n",
    "x"
   ]
  },
  {
   "cell_type": "code",
   "execution_count": 9,
   "id": "69111db9",
   "metadata": {},
   "outputs": [
    {
     "data": {
      "text/plain": [
       "True"
      ]
     },
     "execution_count": 9,
     "metadata": {},
     "output_type": "execute_result"
    }
   ],
   "source": [
    "\"Performance\" in x"
   ]
  },
  {
   "cell_type": "code",
   "execution_count": 13,
   "id": "effc8dc3",
   "metadata": {},
   "outputs": [],
   "source": [
    "a = Sentiment_Data\n",
    "Aspects = a[\"Aspect\"].unique()\n",
    "if \"Performance\" in Aspects:\n",
    "    Performance_Sentiment = a[a['Aspect']=='Performance']['Data_Source'].values[0]\n",
    "else:\n",
    "    Performance_Sentiment = 0\n",
    "\n",
    "if \"Design\" in Aspects:\n",
    "    Design_Sentiment = a[a['Aspect']=='Design']['Data_Source'].values[0]\n",
    "else:\n",
    "    Design_Sentiment = 0\n",
    "\n",
    "if \"Display\" in Aspects:\n",
    "    Display_Sentiment = a[a['Aspect']=='Display']['Data_Source'].values[0]\n",
    "else:\n",
    "    Display_Sentiment = 0\n",
    "\n",
    "if \"Battery\" in Aspects:\n",
    "    Battery_Sentiment = a[a['Aspect']=='Battery']['Data_Source'].values[0]\n",
    "else:\n",
    "    Battery_Sentiment = 0\n",
    "\n",
    "if \"Price\" in Aspects:\n",
    "    Price_Sentiment = a[a['Aspect']=='Price']['Data_Source'].values[0]\n",
    "else:\n",
    "    Price_Sentiment = 0\n",
    "\n",
    "if \"Software\" in Aspects:\n",
    "    Software_Sentiment = a[a['Aspect']=='Software']['Data_Source'].values[0]\n",
    "else:\n",
    "    Software_Sentiment = 0\n",
    "\n",
    "aspect_sentiment = list((Performance_Sentiment,Design_Sentiment,Display_Sentiment,Battery_Sentiment,Price_Sentiment,Software_Sentiment))"
   ]
  },
  {
   "cell_type": "code",
   "execution_count": 14,
   "id": "6c6e6e3b",
   "metadata": {},
   "outputs": [
    {
     "data": {
      "text/plain": [
       "['Amazon', 'Amazon', 'Amazon', 'Amazon', 'Amazon', 'BestBuy']"
      ]
     },
     "execution_count": 14,
     "metadata": {},
     "output_type": "execute_result"
    }
   ],
   "source": [
    "Aspect_sentiment"
   ]
  },
  {
   "cell_type": "code",
   "execution_count": null,
   "id": "0cfc5920",
   "metadata": {},
   "outputs": [],
   "source": []
  }
 ],
 "metadata": {
  "kernelspec": {
   "display_name": "Python 3 (ipykernel)",
   "language": "python",
   "name": "python3"
  },
  "language_info": {
   "codemirror_mode": {
    "name": "ipython",
    "version": 3
   },
   "file_extension": ".py",
   "mimetype": "text/x-python",
   "name": "python",
   "nbconvert_exporter": "python",
   "pygments_lexer": "ipython3",
   "version": "3.11.7"
  }
 },
 "nbformat": 4,
 "nbformat_minor": 5
}
